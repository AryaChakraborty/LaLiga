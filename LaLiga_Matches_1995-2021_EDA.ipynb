{
 "cells": [
  {
   "cell_type": "code",
   "execution_count": 1,
   "id": "e5fc198e",
   "metadata": {},
   "outputs": [],
   "source": [
    "import numpy as np\n",
    "import pandas as pd\n",
    "import matplotlib.pyplot as plt"
   ]
  },
  {
   "cell_type": "code",
   "execution_count": 2,
   "id": "ccaf31b5",
   "metadata": {},
   "outputs": [
    {
     "data": {
      "text/html": [
       "<div>\n",
       "<style scoped>\n",
       "    .dataframe tbody tr th:only-of-type {\n",
       "        vertical-align: middle;\n",
       "    }\n",
       "\n",
       "    .dataframe tbody tr th {\n",
       "        vertical-align: top;\n",
       "    }\n",
       "\n",
       "    .dataframe thead th {\n",
       "        text-align: right;\n",
       "    }\n",
       "</style>\n",
       "<table border=\"1\" class=\"dataframe\">\n",
       "  <thead>\n",
       "    <tr style=\"text-align: right;\">\n",
       "      <th></th>\n",
       "      <th>Season</th>\n",
       "      <th>Date</th>\n",
       "      <th>HomeTeam</th>\n",
       "      <th>AwayTeam</th>\n",
       "      <th>FTHG</th>\n",
       "      <th>FTAG</th>\n",
       "      <th>FTR</th>\n",
       "      <th>HTHG</th>\n",
       "      <th>HTAG</th>\n",
       "      <th>HTR</th>\n",
       "    </tr>\n",
       "  </thead>\n",
       "  <tbody>\n",
       "    <tr>\n",
       "      <th>0</th>\n",
       "      <td>1995-96</td>\n",
       "      <td>2/9/1995</td>\n",
       "      <td>La Coruna</td>\n",
       "      <td>Valencia</td>\n",
       "      <td>3</td>\n",
       "      <td>0</td>\n",
       "      <td>H</td>\n",
       "      <td>2.0</td>\n",
       "      <td>0.0</td>\n",
       "      <td>H</td>\n",
       "    </tr>\n",
       "    <tr>\n",
       "      <th>1</th>\n",
       "      <td>1995-96</td>\n",
       "      <td>2/9/1995</td>\n",
       "      <td>Sp Gijon</td>\n",
       "      <td>Albacete</td>\n",
       "      <td>3</td>\n",
       "      <td>0</td>\n",
       "      <td>H</td>\n",
       "      <td>3.0</td>\n",
       "      <td>0.0</td>\n",
       "      <td>H</td>\n",
       "    </tr>\n",
       "    <tr>\n",
       "      <th>2</th>\n",
       "      <td>1995-96</td>\n",
       "      <td>3/9/1995</td>\n",
       "      <td>Ath Bilbao</td>\n",
       "      <td>Santander</td>\n",
       "      <td>4</td>\n",
       "      <td>0</td>\n",
       "      <td>H</td>\n",
       "      <td>2.0</td>\n",
       "      <td>0.0</td>\n",
       "      <td>H</td>\n",
       "    </tr>\n",
       "    <tr>\n",
       "      <th>3</th>\n",
       "      <td>1995-96</td>\n",
       "      <td>3/9/1995</td>\n",
       "      <td>Ath Madrid</td>\n",
       "      <td>Sociedad</td>\n",
       "      <td>4</td>\n",
       "      <td>1</td>\n",
       "      <td>H</td>\n",
       "      <td>1.0</td>\n",
       "      <td>1.0</td>\n",
       "      <td>D</td>\n",
       "    </tr>\n",
       "    <tr>\n",
       "      <th>4</th>\n",
       "      <td>1995-96</td>\n",
       "      <td>3/9/1995</td>\n",
       "      <td>Celta</td>\n",
       "      <td>Compostela</td>\n",
       "      <td>0</td>\n",
       "      <td>1</td>\n",
       "      <td>A</td>\n",
       "      <td>0.0</td>\n",
       "      <td>0.0</td>\n",
       "      <td>D</td>\n",
       "    </tr>\n",
       "  </tbody>\n",
       "</table>\n",
       "</div>"
      ],
      "text/plain": [
       "    Season      Date    HomeTeam    AwayTeam  FTHG  FTAG FTR  HTHG  HTAG HTR\n",
       "0  1995-96  2/9/1995   La Coruna    Valencia     3     0   H   2.0   0.0   H\n",
       "1  1995-96  2/9/1995    Sp Gijon    Albacete     3     0   H   3.0   0.0   H\n",
       "2  1995-96  3/9/1995  Ath Bilbao   Santander     4     0   H   2.0   0.0   H\n",
       "3  1995-96  3/9/1995  Ath Madrid    Sociedad     4     1   H   1.0   1.0   D\n",
       "4  1995-96  3/9/1995       Celta  Compostela     0     1   A   0.0   0.0   D"
      ]
     },
     "execution_count": 2,
     "metadata": {},
     "output_type": "execute_result"
    }
   ],
   "source": [
    "data = pd.read_csv('LaLiga_Matches_1995-2021.csv')\n",
    "data.head()"
   ]
  },
  {
   "cell_type": "code",
   "execution_count": 3,
   "id": "fbce24a1",
   "metadata": {},
   "outputs": [],
   "source": [
    "data = data.rename(columns = {'FTHG': 'Home_Team_full Goals', \n",
    "                              'FTAG': 'Opponent_full Goals',\n",
    "                              'FTR': 'Full_Result', \n",
    "                              'HTHG': 'Home_Team_1st_half_Goals',\n",
    "                              'HTAG': 'Opponent_1st_half_Goals', \n",
    "                              'HTR': '1st_half_Result'}, inplace = False)"
   ]
  },
  {
   "cell_type": "code",
   "execution_count": 4,
   "id": "8786f4ec",
   "metadata": {
    "scrolled": true
   },
   "outputs": [
    {
     "data": {
      "text/html": [
       "<div>\n",
       "<style scoped>\n",
       "    .dataframe tbody tr th:only-of-type {\n",
       "        vertical-align: middle;\n",
       "    }\n",
       "\n",
       "    .dataframe tbody tr th {\n",
       "        vertical-align: top;\n",
       "    }\n",
       "\n",
       "    .dataframe thead th {\n",
       "        text-align: right;\n",
       "    }\n",
       "</style>\n",
       "<table border=\"1\" class=\"dataframe\">\n",
       "  <thead>\n",
       "    <tr style=\"text-align: right;\">\n",
       "      <th></th>\n",
       "      <th>Season</th>\n",
       "      <th>Date</th>\n",
       "      <th>HomeTeam</th>\n",
       "      <th>AwayTeam</th>\n",
       "      <th>Home_Team_full Goals</th>\n",
       "      <th>Opponent_full Goals</th>\n",
       "      <th>Full_Result</th>\n",
       "      <th>Home_Team_1st_half_Goals</th>\n",
       "      <th>Opponent_1st_half_Goals</th>\n",
       "      <th>1st_half_Result</th>\n",
       "    </tr>\n",
       "  </thead>\n",
       "  <tbody>\n",
       "    <tr>\n",
       "      <th>0</th>\n",
       "      <td>1995-96</td>\n",
       "      <td>2/9/1995</td>\n",
       "      <td>La Coruna</td>\n",
       "      <td>Valencia</td>\n",
       "      <td>3</td>\n",
       "      <td>0</td>\n",
       "      <td>H</td>\n",
       "      <td>2.0</td>\n",
       "      <td>0.0</td>\n",
       "      <td>H</td>\n",
       "    </tr>\n",
       "    <tr>\n",
       "      <th>1</th>\n",
       "      <td>1995-96</td>\n",
       "      <td>2/9/1995</td>\n",
       "      <td>Sp Gijon</td>\n",
       "      <td>Albacete</td>\n",
       "      <td>3</td>\n",
       "      <td>0</td>\n",
       "      <td>H</td>\n",
       "      <td>3.0</td>\n",
       "      <td>0.0</td>\n",
       "      <td>H</td>\n",
       "    </tr>\n",
       "    <tr>\n",
       "      <th>2</th>\n",
       "      <td>1995-96</td>\n",
       "      <td>3/9/1995</td>\n",
       "      <td>Ath Bilbao</td>\n",
       "      <td>Santander</td>\n",
       "      <td>4</td>\n",
       "      <td>0</td>\n",
       "      <td>H</td>\n",
       "      <td>2.0</td>\n",
       "      <td>0.0</td>\n",
       "      <td>H</td>\n",
       "    </tr>\n",
       "    <tr>\n",
       "      <th>3</th>\n",
       "      <td>1995-96</td>\n",
       "      <td>3/9/1995</td>\n",
       "      <td>Ath Madrid</td>\n",
       "      <td>Sociedad</td>\n",
       "      <td>4</td>\n",
       "      <td>1</td>\n",
       "      <td>H</td>\n",
       "      <td>1.0</td>\n",
       "      <td>1.0</td>\n",
       "      <td>D</td>\n",
       "    </tr>\n",
       "    <tr>\n",
       "      <th>4</th>\n",
       "      <td>1995-96</td>\n",
       "      <td>3/9/1995</td>\n",
       "      <td>Celta</td>\n",
       "      <td>Compostela</td>\n",
       "      <td>0</td>\n",
       "      <td>1</td>\n",
       "      <td>A</td>\n",
       "      <td>0.0</td>\n",
       "      <td>0.0</td>\n",
       "      <td>D</td>\n",
       "    </tr>\n",
       "  </tbody>\n",
       "</table>\n",
       "</div>"
      ],
      "text/plain": [
       "    Season      Date    HomeTeam    AwayTeam  Home_Team_full Goals  \\\n",
       "0  1995-96  2/9/1995   La Coruna    Valencia                     3   \n",
       "1  1995-96  2/9/1995    Sp Gijon    Albacete                     3   \n",
       "2  1995-96  3/9/1995  Ath Bilbao   Santander                     4   \n",
       "3  1995-96  3/9/1995  Ath Madrid    Sociedad                     4   \n",
       "4  1995-96  3/9/1995       Celta  Compostela                     0   \n",
       "\n",
       "   Opponent_full Goals Full_Result  Home_Team_1st_half_Goals  \\\n",
       "0                    0           H                       2.0   \n",
       "1                    0           H                       3.0   \n",
       "2                    0           H                       2.0   \n",
       "3                    1           H                       1.0   \n",
       "4                    1           A                       0.0   \n",
       "\n",
       "   Opponent_1st_half_Goals 1st_half_Result  \n",
       "0                      0.0               H  \n",
       "1                      0.0               H  \n",
       "2                      0.0               H  \n",
       "3                      1.0               D  \n",
       "4                      0.0               D  "
      ]
     },
     "execution_count": 4,
     "metadata": {},
     "output_type": "execute_result"
    }
   ],
   "source": [
    "data.head()"
   ]
  },
  {
   "cell_type": "code",
   "execution_count": 5,
   "id": "8c725724",
   "metadata": {},
   "outputs": [
    {
     "data": {
      "text/plain": [
       "Season                       object\n",
       "Date                         object\n",
       "HomeTeam                     object\n",
       "AwayTeam                     object\n",
       "Home_Team_full Goals          int64\n",
       "Opponent_full Goals           int64\n",
       "Full_Result                  object\n",
       "Home_Team_1st_half_Goals    float64\n",
       "Opponent_1st_half_Goals     float64\n",
       "1st_half_Result              object\n",
       "dtype: object"
      ]
     },
     "execution_count": 5,
     "metadata": {},
     "output_type": "execute_result"
    }
   ],
   "source": [
    "data.dtypes"
   ]
  },
  {
   "cell_type": "code",
   "execution_count": 6,
   "id": "89cfdaf7",
   "metadata": {},
   "outputs": [
    {
     "data": {
      "text/plain": [
       "(10044, 10)"
      ]
     },
     "execution_count": 6,
     "metadata": {},
     "output_type": "execute_result"
    }
   ],
   "source": [
    "data.shape"
   ]
  },
  {
   "cell_type": "code",
   "execution_count": 7,
   "id": "49062ff1",
   "metadata": {},
   "outputs": [
    {
     "data": {
      "text/html": [
       "<div>\n",
       "<style scoped>\n",
       "    .dataframe tbody tr th:only-of-type {\n",
       "        vertical-align: middle;\n",
       "    }\n",
       "\n",
       "    .dataframe tbody tr th {\n",
       "        vertical-align: top;\n",
       "    }\n",
       "\n",
       "    .dataframe thead th {\n",
       "        text-align: right;\n",
       "    }\n",
       "</style>\n",
       "<table border=\"1\" class=\"dataframe\">\n",
       "  <thead>\n",
       "    <tr style=\"text-align: right;\">\n",
       "      <th></th>\n",
       "      <th>Home_Team_full Goals</th>\n",
       "      <th>Opponent_full Goals</th>\n",
       "      <th>Home_Team_1st_half_Goals</th>\n",
       "      <th>Opponent_1st_half_Goals</th>\n",
       "    </tr>\n",
       "  </thead>\n",
       "  <tbody>\n",
       "    <tr>\n",
       "      <th>count</th>\n",
       "      <td>10044.000000</td>\n",
       "      <td>10044.000000</td>\n",
       "      <td>10042.000000</td>\n",
       "      <td>10042.000000</td>\n",
       "    </tr>\n",
       "    <tr>\n",
       "      <th>mean</th>\n",
       "      <td>1.561928</td>\n",
       "      <td>1.118877</td>\n",
       "      <td>0.690799</td>\n",
       "      <td>0.485859</td>\n",
       "    </tr>\n",
       "    <tr>\n",
       "      <th>std</th>\n",
       "      <td>1.307706</td>\n",
       "      <td>1.116444</td>\n",
       "      <td>0.841658</td>\n",
       "      <td>0.698890</td>\n",
       "    </tr>\n",
       "    <tr>\n",
       "      <th>min</th>\n",
       "      <td>0.000000</td>\n",
       "      <td>0.000000</td>\n",
       "      <td>0.000000</td>\n",
       "      <td>0.000000</td>\n",
       "    </tr>\n",
       "    <tr>\n",
       "      <th>25%</th>\n",
       "      <td>1.000000</td>\n",
       "      <td>0.000000</td>\n",
       "      <td>0.000000</td>\n",
       "      <td>0.000000</td>\n",
       "    </tr>\n",
       "    <tr>\n",
       "      <th>50%</th>\n",
       "      <td>1.000000</td>\n",
       "      <td>1.000000</td>\n",
       "      <td>0.000000</td>\n",
       "      <td>0.000000</td>\n",
       "    </tr>\n",
       "    <tr>\n",
       "      <th>75%</th>\n",
       "      <td>2.000000</td>\n",
       "      <td>2.000000</td>\n",
       "      <td>1.000000</td>\n",
       "      <td>1.000000</td>\n",
       "    </tr>\n",
       "    <tr>\n",
       "      <th>max</th>\n",
       "      <td>10.000000</td>\n",
       "      <td>8.000000</td>\n",
       "      <td>6.000000</td>\n",
       "      <td>6.000000</td>\n",
       "    </tr>\n",
       "  </tbody>\n",
       "</table>\n",
       "</div>"
      ],
      "text/plain": [
       "       Home_Team_full Goals  Opponent_full Goals  Home_Team_1st_half_Goals  \\\n",
       "count          10044.000000         10044.000000              10042.000000   \n",
       "mean               1.561928             1.118877                  0.690799   \n",
       "std                1.307706             1.116444                  0.841658   \n",
       "min                0.000000             0.000000                  0.000000   \n",
       "25%                1.000000             0.000000                  0.000000   \n",
       "50%                1.000000             1.000000                  0.000000   \n",
       "75%                2.000000             2.000000                  1.000000   \n",
       "max               10.000000             8.000000                  6.000000   \n",
       "\n",
       "       Opponent_1st_half_Goals  \n",
       "count             10042.000000  \n",
       "mean                  0.485859  \n",
       "std                   0.698890  \n",
       "min                   0.000000  \n",
       "25%                   0.000000  \n",
       "50%                   0.000000  \n",
       "75%                   1.000000  \n",
       "max                   6.000000  "
      ]
     },
     "execution_count": 7,
     "metadata": {},
     "output_type": "execute_result"
    }
   ],
   "source": [
    "data.describe()"
   ]
  },
  {
   "cell_type": "code",
   "execution_count": 8,
   "id": "b00c63e9",
   "metadata": {},
   "outputs": [],
   "source": [
    "data['Home_Team_1st_half_Goals'].fillna(0, inplace=True)\n",
    "data['Opponent_1st_half_Goals'].fillna(0, inplace=True)"
   ]
  },
  {
   "cell_type": "code",
   "execution_count": 9,
   "id": "4d1a2b00",
   "metadata": {},
   "outputs": [
    {
     "data": {
      "text/plain": [
       "Season                      object\n",
       "Date                        object\n",
       "HomeTeam                    object\n",
       "AwayTeam                    object\n",
       "Home_Team_full Goals         int64\n",
       "Opponent_full Goals          int64\n",
       "Full_Result                 object\n",
       "Home_Team_1st_half_Goals     int32\n",
       "Opponent_1st_half_Goals      int32\n",
       "1st_half_Result             object\n",
       "dtype: object"
      ]
     },
     "execution_count": 9,
     "metadata": {},
     "output_type": "execute_result"
    }
   ],
   "source": [
    "data = data.astype({'Home_Team_1st_half_Goals' : int, 'Opponent_1st_half_Goals' : int})\n",
    "data.dtypes"
   ]
  },
  {
   "cell_type": "code",
   "execution_count": 10,
   "id": "f8f3885e",
   "metadata": {},
   "outputs": [
    {
     "data": {
      "text/html": [
       "<div>\n",
       "<style scoped>\n",
       "    .dataframe tbody tr th:only-of-type {\n",
       "        vertical-align: middle;\n",
       "    }\n",
       "\n",
       "    .dataframe tbody tr th {\n",
       "        vertical-align: top;\n",
       "    }\n",
       "\n",
       "    .dataframe thead th {\n",
       "        text-align: right;\n",
       "    }\n",
       "</style>\n",
       "<table border=\"1\" class=\"dataframe\">\n",
       "  <thead>\n",
       "    <tr style=\"text-align: right;\">\n",
       "      <th></th>\n",
       "      <th>Season</th>\n",
       "      <th>Date</th>\n",
       "      <th>HomeTeam</th>\n",
       "      <th>AwayTeam</th>\n",
       "      <th>Home_Team_full Goals</th>\n",
       "      <th>Opponent_full Goals</th>\n",
       "      <th>Full_Result</th>\n",
       "      <th>Home_Team_1st_half_Goals</th>\n",
       "      <th>Opponent_1st_half_Goals</th>\n",
       "      <th>1st_half_Result</th>\n",
       "      <th>Home_Team_2nd_half_Goals</th>\n",
       "      <th>Opponent_2nd_half_Goals</th>\n",
       "    </tr>\n",
       "  </thead>\n",
       "  <tbody>\n",
       "    <tr>\n",
       "      <th>0</th>\n",
       "      <td>1995-96</td>\n",
       "      <td>2/9/1995</td>\n",
       "      <td>La Coruna</td>\n",
       "      <td>Valencia</td>\n",
       "      <td>3</td>\n",
       "      <td>0</td>\n",
       "      <td>H</td>\n",
       "      <td>2</td>\n",
       "      <td>0</td>\n",
       "      <td>H</td>\n",
       "      <td>1</td>\n",
       "      <td>0</td>\n",
       "    </tr>\n",
       "    <tr>\n",
       "      <th>1</th>\n",
       "      <td>1995-96</td>\n",
       "      <td>2/9/1995</td>\n",
       "      <td>Sp Gijon</td>\n",
       "      <td>Albacete</td>\n",
       "      <td>3</td>\n",
       "      <td>0</td>\n",
       "      <td>H</td>\n",
       "      <td>3</td>\n",
       "      <td>0</td>\n",
       "      <td>H</td>\n",
       "      <td>0</td>\n",
       "      <td>0</td>\n",
       "    </tr>\n",
       "    <tr>\n",
       "      <th>2</th>\n",
       "      <td>1995-96</td>\n",
       "      <td>3/9/1995</td>\n",
       "      <td>Ath Bilbao</td>\n",
       "      <td>Santander</td>\n",
       "      <td>4</td>\n",
       "      <td>0</td>\n",
       "      <td>H</td>\n",
       "      <td>2</td>\n",
       "      <td>0</td>\n",
       "      <td>H</td>\n",
       "      <td>2</td>\n",
       "      <td>0</td>\n",
       "    </tr>\n",
       "    <tr>\n",
       "      <th>3</th>\n",
       "      <td>1995-96</td>\n",
       "      <td>3/9/1995</td>\n",
       "      <td>Ath Madrid</td>\n",
       "      <td>Sociedad</td>\n",
       "      <td>4</td>\n",
       "      <td>1</td>\n",
       "      <td>H</td>\n",
       "      <td>1</td>\n",
       "      <td>1</td>\n",
       "      <td>D</td>\n",
       "      <td>3</td>\n",
       "      <td>0</td>\n",
       "    </tr>\n",
       "    <tr>\n",
       "      <th>4</th>\n",
       "      <td>1995-96</td>\n",
       "      <td>3/9/1995</td>\n",
       "      <td>Celta</td>\n",
       "      <td>Compostela</td>\n",
       "      <td>0</td>\n",
       "      <td>1</td>\n",
       "      <td>A</td>\n",
       "      <td>0</td>\n",
       "      <td>0</td>\n",
       "      <td>D</td>\n",
       "      <td>0</td>\n",
       "      <td>1</td>\n",
       "    </tr>\n",
       "  </tbody>\n",
       "</table>\n",
       "</div>"
      ],
      "text/plain": [
       "    Season      Date    HomeTeam    AwayTeam  Home_Team_full Goals  \\\n",
       "0  1995-96  2/9/1995   La Coruna    Valencia                     3   \n",
       "1  1995-96  2/9/1995    Sp Gijon    Albacete                     3   \n",
       "2  1995-96  3/9/1995  Ath Bilbao   Santander                     4   \n",
       "3  1995-96  3/9/1995  Ath Madrid    Sociedad                     4   \n",
       "4  1995-96  3/9/1995       Celta  Compostela                     0   \n",
       "\n",
       "   Opponent_full Goals Full_Result  Home_Team_1st_half_Goals  \\\n",
       "0                    0           H                         2   \n",
       "1                    0           H                         3   \n",
       "2                    0           H                         2   \n",
       "3                    1           H                         1   \n",
       "4                    1           A                         0   \n",
       "\n",
       "   Opponent_1st_half_Goals 1st_half_Result  Home_Team_2nd_half_Goals  \\\n",
       "0                        0               H                         1   \n",
       "1                        0               H                         0   \n",
       "2                        0               H                         2   \n",
       "3                        1               D                         3   \n",
       "4                        0               D                         0   \n",
       "\n",
       "   Opponent_2nd_half_Goals  \n",
       "0                        0  \n",
       "1                        0  \n",
       "2                        0  \n",
       "3                        0  \n",
       "4                        1  "
      ]
     },
     "execution_count": 10,
     "metadata": {},
     "output_type": "execute_result"
    }
   ],
   "source": [
    "data['Home_Team_2nd_half_Goals'] = data['Home_Team_full Goals'] - data['Home_Team_1st_half_Goals']\n",
    "data['Opponent_2nd_half_Goals'] = data['Opponent_full Goals'] - data['Opponent_1st_half_Goals']\n",
    "data.head()"
   ]
  },
  {
   "cell_type": "code",
   "execution_count": 11,
   "id": "21563bf4",
   "metadata": {},
   "outputs": [],
   "source": [
    "def club_stat_win_loss(club_name) :\n",
    "    # home games\n",
    "    masked_h = data[data['HomeTeam'] == club_name]\n",
    "    home_game_wins = (masked_h['Full_Result'] == 'H').sum()\n",
    "    home_game_losses = (masked_h['Full_Result'] == 'A').sum()\n",
    "    home_game_draws = masked_h.shape[0] - home_game_losses - home_game_wins\n",
    "    print('home game wins = ', home_game_wins)\n",
    "    print('home game draws = ', home_game_draws)\n",
    "    print('home game losses = ', home_game_losses)\n",
    "    plt.pie([home_game_wins, home_game_losses, home_game_draws], labels=['home game wins', 'home game losses', 'home game draws'])\n",
    "    plt.show()\n",
    "    \n",
    "    # away games\n",
    "    masked_a = data[data['AwayTeam'] == club_name]\n",
    "    away_game_wins = (masked_a['Full_Result'] == 'A').sum()\n",
    "    away_game_losses = (masked_a['Full_Result'] == 'H').sum()\n",
    "    away_game_draws = masked_a.shape[0] - away_game_losses - away_game_wins\n",
    "    print('away game wins = ', away_game_wins)\n",
    "    print('away game draws = ', away_game_draws)\n",
    "    print('away game losses = ', away_game_losses)\n",
    "    plt.pie([away_game_wins, away_game_losses, away_game_draws], labels=['away game wins', 'away game losses', 'away game draws'])\n",
    "    plt.show()"
   ]
  },
  {
   "cell_type": "code",
   "execution_count": 12,
   "id": "19d6af4a",
   "metadata": {},
   "outputs": [
    {
     "name": "stdout",
     "output_type": "stream",
     "text": [
      "home game wins =  377\n",
      "home game draws =  76\n",
      "home game losses =  45\n"
     ]
    },
    {
     "data": {
      "image/png": "[encoded data removed]",
      "text/plain": [
       "<Figure size 432x288 with 1 Axes>"
      ]
     },
     "metadata": {},
     "output_type": "display_data"
    },
    {
     "name": "stdout",
     "output_type": "stream",
     "text": [
      "away game wins =  266\n",
      "away game draws =  122\n",
      "away game losses =  110\n"
     ]
    },
    {
     "data": {
      "image/png": "[encoded data removed]",
      "text/plain": [
       "<Figure size 432x288 with 1 Axes>"
      ]
     },
     "metadata": {},
     "output_type": "display_data"
    }
   ],
   "source": [
    "club_stat_win_loss('Barcelona')"
   ]
  },
  {
   "cell_type": "code",
   "execution_count": 13,
   "id": "ed8e1bfb",
   "metadata": {},
   "outputs": [],
   "source": [
    "def club_club_stat(club1, club2) :\n",
    "    # home games for club1\n",
    "    masked_h1 = data[(data['HomeTeam'] == club1) & (data['AwayTeam'] == club2)]\n",
    "    \n",
    "    print('For home games of ', club1, ' :')\n",
    "    \n",
    "    print('total games = ', masked_h1.shape[0])\n",
    "    \n",
    "    win_club1_home = (masked_h1['Full_Result']=='H').sum()\n",
    "    print('won by ', club1, ' = ', win_club1_home)\n",
    "    \n",
    "    win_club2_away = (masked_h1['Full_Result']=='A').sum()\n",
    "    print('won by ', club2, ' = ', win_club2_away)\n",
    "    \n",
    "    print('draws = ', masked_h1.shape[0] - win_club1_home - win_club2_away)\n",
    "    \n",
    "    plt.pie([win_club1_home, win_club2_away, masked_h1.shape[0] - win_club1_home - win_club2_away], \n",
    "            labels=[club1, club2, 'draws'])\n",
    "    plt.show()\n",
    "    \n",
    "    print()\n",
    "    \n",
    "    # home games for club2\n",
    "    masked_h2 = data[(data['HomeTeam'] == club2) & (data['AwayTeam'] == club1)]\n",
    "    \n",
    "    print('For home games of ', club2, ' :')\n",
    "    \n",
    "    print('total games = ', masked_h2.shape[0])\n",
    "    \n",
    "    win_club2_home = (masked_h2['Full_Result']=='H').sum()\n",
    "    print('won by ', club2, ' = ', win_club2_home)\n",
    "    \n",
    "    win_club1_away = (masked_h2['Full_Result']=='A').sum()\n",
    "    print('won by ', club1, ' = ', win_club1_away)\n",
    "    \n",
    "    print('draws = ', masked_h2.shape[0] - win_club2_home - win_club1_away)\n",
    "          \n",
    "    plt.pie([win_club2_home, win_club1_away, masked_h2.shape[0] - win_club2_home - win_club1_away], \n",
    "            labels=[club2, club1, 'draws'])\n",
    "    plt.show()"
   ]
  },
  {
   "cell_type": "code",
   "execution_count": 14,
   "id": "8c2bc60f",
   "metadata": {},
   "outputs": [
    {
     "name": "stdout",
     "output_type": "stream",
     "text": [
      "For home games of  Barcelona  :\n",
      "total games =  26\n",
      "won by  Barcelona  =  12\n",
      "won by  Real Madrid  =  5\n",
      "draws =  9\n"
     ]
    },
    {
     "data": {
      "image/png": "[encoded data removed]",
      "text/plain": [
       "<Figure size 432x288 with 1 Axes>"
      ]
     },
     "metadata": {},
     "output_type": "display_data"
    },
    {
     "name": "stdout",
     "output_type": "stream",
     "text": [
      "\n",
      "For home games of  Real Madrid  :\n",
      "total games =  26\n",
      "won by  Real Madrid  =  10\n",
      "won by  Barcelona  =  11\n",
      "draws =  5\n"
     ]
    },
    {
     "data": {
      "image/png": "[encoded data removed]",
      "text/plain": [
       "<Figure size 432x288 with 1 Axes>"
      ]
     },
     "metadata": {},
     "output_type": "display_data"
    }
   ],
   "source": [
    "club_club_stat('Barcelona', 'Real Madrid') # El Clasico"
   ]
  },
  {
   "cell_type": "code",
   "execution_count": 19,
   "id": "a211bf98",
   "metadata": {},
   "outputs": [],
   "source": [
    "def club_against_clubs_stat(club_name, n=10) :\n",
    "\n",
    "    new_data = data.copy()\n",
    "    new_data['won_home'] = (new_data['Full_Result'] == 'H')\n",
    "    new_data['won_away'] = (new_data['Full_Result'] == 'A')\n",
    "    new_data['drew'] = ((new_data['Full_Result'] != 'A') & (new_data['Full_Result'] != 'H'))\n",
    "    \n",
    "    # home games\n",
    "    masked_h = new_data[new_data['HomeTeam'] == club_name]\n",
    "    group_h = masked_h.groupby('AwayTeam')\n",
    "    win_in_home = group_h['won_home'].sum().sort_values(ascending=False)[:n]\n",
    "    plt.barh(win_in_home.keys(), win_in_home, color='red')\n",
    "    plt.title('HOME GAMES MOST WINS')\n",
    "    plt.show()\n",
    "    \n",
    "    # home games\n",
    "    masked_a = new_data[new_data['AwayTeam'] == club_name]\n",
    "    group_a = masked_a.groupby('HomeTeam')\n",
    "    win_in_away = group_a['won_away'].sum().sort_values(ascending=False)[:n]\n",
    "    plt.barh(win_in_away.keys(), win_in_away, color='green')\n",
    "    plt.title('AWAY GAMES MOST WINS')\n",
    "    plt.show()"
   ]
  },
  {
   "cell_type": "code",
   "execution_count": 20,
   "id": "2d6d5135",
   "metadata": {},
   "outputs": [
    {
     "data": {
      "image/png": "[encoded data removed]",
      "text/plain": [
       "<Figure size 432x288 with 1 Axes>"
      ]
     },
     "metadata": {
      "needs_background": "light"
     },
     "output_type": "display_data"
    },
    {
     "data": {
      "image/png": "[encoded data removed]",
      "text/plain": [
       "<Figure size 432x288 with 1 Axes>"
      ]
     },
     "metadata": {
      "needs_background": "light"
     },
     "output_type": "display_data"
    }
   ],
   "source": [
    "club_against_clubs_stat('Barcelona')"
   ]
  }
 ],
 "metadata": {
  "kernelspec": {
   "display_name": "Python 3 (ipykernel)",
   "language": "python",
   "name": "python3"
  },
  "language_info": {
   "codemirror_mode": {
    "name": "ipython",
    "version": 3
   },
   "file_extension": ".py",
   "mimetype": "text/x-python",
   "name": "python",
   "nbconvert_exporter": "python",
   "pygments_lexer": "ipython3",
   "version": "3.9.7"
  }
 },
 "nbformat": 4,
 "nbformat_minor": 5
}
